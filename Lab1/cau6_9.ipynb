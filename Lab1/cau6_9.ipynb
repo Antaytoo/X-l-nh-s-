{
 "cells": [
  {
   "cell_type": "code",
   "execution_count": 9,
   "id": "2534d562",
   "metadata": {},
   "outputs": [
    {
     "name": "stdout",
     "output_type": "stream",
     "text": [
      "Lỗi đọc ảnh: Exercise\\bird.png\n",
      "✅ Đã hoàn thành đổi màu HSV không trùng và lưu ảnh mới.\n"
     ]
    }
   ],
   "source": [
    "#9\n",
    "import cv2\n",
    "import os\n",
    "import numpy as np\n",
    "import random\n",
    "\n",
    "# Thư mục gốc và thư mục lưu ảnh mới\n",
    "input_dir = 'Exercise'\n",
    "output_dir = 'Output_HSV_Random'\n",
    "os.makedirs(output_dir, exist_ok=True)\n",
    "\n",
    "# Lấy danh sách file ảnh\n",
    "image_files = ['bird.png']\n",
    "\n",
    "# Tạo danh sách giá trị Hue ngẫu nhiên và không trùng (giới hạn 180 trong OpenCV)\n",
    "available_hues = list(range(0, 180))\n",
    "random.shuffle(available_hues)\n",
    "\n",
    "for idx, file_name in enumerate(image_files):\n",
    "    path = os.path.join(input_dir, file_name)\n",
    "    img = cv2.imread(path)\n",
    "\n",
    "    if img is None:\n",
    "        print(f\"Lỗi đọc ảnh: {path}\")\n",
    "        continue\n",
    "\n",
    "    # Bước 1: Khử nhiễu\n",
    "    denoised = cv2.medianBlur(img, 5)\n",
    "\n",
    "    # Bước 2: Đổi màu HSV\n",
    "    hsv_img = cv2.cvtColor(denoised, cv2.COLOR_BGR2HSV)\n",
    "\n",
    "    # Chọn hue khác nhau cho từng ảnh\n",
    "    hue_value = available_hues[idx % len(available_hues)]\n",
    "\n",
    "    # Gán giá trị hue mới (giữ nguyên S và V)\n",
    "    hsv_img[:, :, 0] = hue_value\n",
    "\n",
    "    # Chuyển về BGR để lưu lại\n",
    "    recolored_img = cv2.cvtColor(hsv_img, cv2.COLOR_HSV2BGR)\n",
    "\n",
    "    # Lưu ảnh mới\n",
    "    out_path = os.path.join(output_dir, f\"hsv_{file_name}\")\n",
    "    cv2.imwrite(out_path, recolored_img)\n",
    "\n",
    "    print(f\"{file_name} - Áp dụng Hue = {hue_value}\")\n",
    "\n",
    "print(\"✅ Đã hoàn thành đổi màu HSV không trùng và lưu ảnh mới.\")\n"
   ]
  },
  {
   "cell_type": "code",
   "execution_count": 8,
   "id": "4981ffdf",
   "metadata": {},
   "outputs": [
    {
     "name": "stdout",
     "output_type": "stream",
     "text": [
      "Lỗi đọc ảnh: Exercise\\bird.png\n",
      "✅ Đã hoàn thành đổi màu RGB ngẫu nhiên và lưu ảnh mới.\n"
     ]
    }
   ],
   "source": [
    "#8\n",
    "import cv2\n",
    "import os\n",
    "import numpy as np\n",
    "\n",
    "# Thư mục đầu vào và đầu ra\n",
    "input_dir = 'Exercise'\n",
    "output_dir = 'Output_RGB_Random'\n",
    "os.makedirs(output_dir, exist_ok=True)\n",
    "\n",
    "# Lấy danh sách file ảnh có phần mở rộng hợp lệ\n",
    "image_files = ['bird.png']\n",
    "\n",
    "for file_name in image_files:\n",
    "    path = os.path.join(input_dir, file_name)\n",
    "    img = cv2.imread(path)\n",
    "\n",
    "    if img is None:\n",
    "        print(f\"Lỗi đọc ảnh: {path}\")\n",
    "        continue\n",
    "\n",
    "    # Khử nhiễu trước khi đổi màu\n",
    "    denoised = cv2.medianBlur(img, 5)\n",
    "\n",
    "    # Tạo một màu RGB ngẫu nhiên\n",
    "    random_color = np.random.randint(0, 256, size=(1, 1, 3), dtype=np.uint8)\n",
    "    print(f\"{file_name} - RGB ngẫu nhiên: {random_color[0, 0]}\")\n",
    "\n",
    "    # Tạo ảnh màu bằng cách nhân mỗi kênh với giá trị màu tương ứng (scale lại)\n",
    "    colored = np.clip((denoised.astype(np.float32) * (random_color.astype(np.float32) / 255.0)), 0, 255).astype(np.uint8)\n",
    "\n",
    "    # Lưu ảnh kết quả\n",
    "    out_path = os.path.join(output_dir, f\"rgb_{file_name}\")\n",
    "    cv2.imwrite(out_path, colored)\n",
    "\n",
    "print(\"✅ Đã hoàn thành đổi màu RGB ngẫu nhiên và lưu ảnh mới.\")\n"
   ]
  },
  {
   "cell_type": "code",
   "execution_count": 4,
   "id": "21a704b2",
   "metadata": {},
   "outputs": [
    {
     "name": "stdout",
     "output_type": "stream",
     "text": [
      "Không đọc được ảnh: bird\\bird.png\n",
      "Đã xử lý và lưu các ảnh xác định biên thành công.\n"
     ]
    }
   ],
   "source": [
    "#7\n",
    "import cv2\n",
    "import os\n",
    "import numpy as np\n",
    "\n",
    "# Tạo thư mục đầu ra nếu chưa có\n",
    "output_dir = 'Output_Edges'\n",
    "os.makedirs(output_dir, exist_ok=True)\n",
    "\n",
    "# Đường dẫn thư mục ảnh gốc\n",
    "input_dir = 'bird'\n",
    "image_files = ['bird.png']\n",
    "\n",
    "for file_name in image_files:\n",
    "    path = os.path.join(input_dir, file_name)\n",
    "    img = cv2.imread(path, cv2.IMREAD_GRAYSCALE)\n",
    "\n",
    "    if img is None:\n",
    "        print(f\"Không đọc được ảnh: {path}\")\n",
    "        continue  # bỏ qua ảnh này\n",
    "\n",
    "    # Bước 1: Khử nhiễu (Median filter)\n",
    "    denoised = cv2.medianBlur(img, 5)\n",
    "\n",
    "\n",
    "    # Bước 2: Xác định biên\n",
    "    edges_canny = cv2.Canny(denoised, 100, 200)\n",
    "    edges_sobel = cv2.Sobel(denoised, cv2.CV_64F, 1, 0, ksize=3)\n",
    "    edges_sobel = cv2.convertScaleAbs(edges_sobel)\n",
    "    edges_laplacian = cv2.Laplacian(denoised, cv2.CV_64F)\n",
    "    edges_laplacian = cv2.convertScaleAbs(edges_laplacian)\n",
    "\n",
    "    # Bước 3: Lưu ảnh\n",
    "    cv2.imwrite(os.path.join(output_dir, f'{file_name}_canny.png'), edges_canny)\n",
    "    cv2.imwrite(os.path.join(output_dir, f'{file_name}_sobel.png'), edges_sobel)\n",
    "    cv2.imwrite(os.path.join(output_dir, f'{file_name}_laplacian.png'), edges_laplacian)\n",
    "\n",
    "print(\"Đã xử lý và lưu các ảnh xác định biên thành công.\")\n"
   ]
  },
  {
   "cell_type": "code",
   "execution_count": 7,
   "id": "ff1fdb42",
   "metadata": {},
   "outputs": [
    {
     "name": "stdout",
     "output_type": "stream",
     "text": [
      "Không đọc được ảnh: bird\\bird.png\n"
     ]
    }
   ],
   "source": [
    "#6\n",
    "import cv2\n",
    "import os\n",
    "import numpy as np\n",
    "import matplotlib.pyplot as plt\n",
    "\n",
    "# Đường dẫn đến thư mục chứa ảnh\n",
    "folder_path = 'bird'\n",
    "image_files = ['bird.png']\n",
    "\n",
    "# Hàm hiển thị ảnh\n",
    "def show_images(original, mean, median, gaussian, title):\n",
    "    plt.figure(figsize=(12, 4))\n",
    "    plt.suptitle(title)\n",
    "    plt.subplot(1, 4, 1)\n",
    "    plt.imshow(original, cmap='gray')\n",
    "    plt.title(\"Original\")\n",
    "    plt.axis('off')\n",
    "\n",
    "    plt.subplot(1, 4, 2)\n",
    "    plt.imshow(mean, cmap='gray')\n",
    "    plt.title(\"Mean\")\n",
    "    plt.axis('off')\n",
    "\n",
    "    plt.subplot(1, 4, 3)\n",
    "    plt.imshow(median, cmap='gray')\n",
    "    plt.title(\"Median\")\n",
    "    plt.axis('off')\n",
    "\n",
    "    plt.subplot(1, 4, 4)\n",
    "    plt.imshow(gaussian, cmap='gray')\n",
    "    plt.title(\"Gaussian\")\n",
    "    plt.axis('off')\n",
    "\n",
    "    plt.show()\n",
    "\n",
    "# Duyệt qua từng ảnh\n",
    "for file_name in image_files:\n",
    "    path = os.path.join(folder_path, file_name)\n",
    "    img = cv2.imread(path, cv2.IMREAD_GRAYSCALE)\n",
    "\n",
    "    if img is None:\n",
    "        print(f\"Không đọc được ảnh: {path}\")\n",
    "        continue\n",
    "\n",
    "    mean_filtered = cv2.blur(img, (5, 5))\n",
    "    median_filtered = cv2.medianBlur(img, 5)\n",
    "    gaussian_filtered = cv2.GaussianBlur(img, (5, 5), 0)\n",
    "\n",
    "    show_images(img, mean_filtered, median_filtered, gaussian_filtered, file_name)\n",
    "\n"
   ]
  }
 ],
 "metadata": {
  "kernelspec": {
   "display_name": "Python 3",
   "language": "python",
   "name": "python3"
  },
  "language_info": {
   "codemirror_mode": {
    "name": "ipython",
    "version": 3
   },
   "file_extension": ".py",
   "mimetype": "text/x-python",
   "name": "python",
   "nbconvert_exporter": "python",
   "pygments_lexer": "ipython3",
   "version": "3.11.9"
  }
 },
 "nbformat": 4,
 "nbformat_minor": 5
}
